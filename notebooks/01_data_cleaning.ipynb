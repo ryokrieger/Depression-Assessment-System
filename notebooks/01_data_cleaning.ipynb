{
 "cells": [
  {
   "cell_type": "code",
   "execution_count": 1,
   "id": "bda5e0f2",
   "metadata": {},
   "outputs": [
    {
     "name": "stdout",
     "output_type": "stream",
     "text": [
      "✅ Libraries loaded successfully!\n"
     ]
    }
   ],
   "source": [
    "# Socio-Clinical Depression Assessment System — Data Cleaning & Preparation\n",
    "\n",
    "import os\n",
    "import pandas as pd\n",
    "import numpy as np\n",
    "from sklearn.preprocessing import LabelEncoder\n",
    "\n",
    "print(\"✅ Libraries loaded successfully!\")\n"
   ]
  },
  {
   "cell_type": "code",
   "execution_count": 2,
   "id": "e2a5fb59",
   "metadata": {},
   "outputs": [
    {
     "name": "stdout",
     "output_type": "stream",
     "text": [
      "✅ Dataset loaded successfully! Shape: (2028, 39)\n"
     ]
    },
    {
     "data": {
      "text/html": [
       "<div>\n",
       "<style scoped>\n",
       "    .dataframe tbody tr th:only-of-type {\n",
       "        vertical-align: middle;\n",
       "    }\n",
       "\n",
       "    .dataframe tbody tr th {\n",
       "        vertical-align: top;\n",
       "    }\n",
       "\n",
       "    .dataframe thead th {\n",
       "        text-align: right;\n",
       "    }\n",
       "</style>\n",
       "<table border=\"1\" class=\"dataframe\">\n",
       "  <thead>\n",
       "    <tr style=\"text-align: right;\">\n",
       "      <th></th>\n",
       "      <th>Age</th>\n",
       "      <th>Gender</th>\n",
       "      <th>University</th>\n",
       "      <th>Department</th>\n",
       "      <th>Academic_Year</th>\n",
       "      <th>Current_CGPA</th>\n",
       "      <th>waiver_or_scholarship</th>\n",
       "      <th>PSS1</th>\n",
       "      <th>PSS2</th>\n",
       "      <th>PSS3</th>\n",
       "      <th>...</th>\n",
       "      <th>PHQ2</th>\n",
       "      <th>PHQ3</th>\n",
       "      <th>PHQ4</th>\n",
       "      <th>PHQ5</th>\n",
       "      <th>PHQ6</th>\n",
       "      <th>PHQ7</th>\n",
       "      <th>PHQ8</th>\n",
       "      <th>PHQ9</th>\n",
       "      <th>Depression Value</th>\n",
       "      <th>Depression Label</th>\n",
       "    </tr>\n",
       "  </thead>\n",
       "  <tbody>\n",
       "    <tr>\n",
       "      <th>0</th>\n",
       "      <td>18-22</td>\n",
       "      <td>Female</td>\n",
       "      <td>Independent University, Bangladesh (IUB)</td>\n",
       "      <td>Engineering - CS / CSE / CSC / Similar to CS</td>\n",
       "      <td>Second Year or Equivalent</td>\n",
       "      <td>2.50 - 2.99</td>\n",
       "      <td>No</td>\n",
       "      <td>3</td>\n",
       "      <td>4</td>\n",
       "      <td>3</td>\n",
       "      <td>...</td>\n",
       "      <td>2</td>\n",
       "      <td>3</td>\n",
       "      <td>2</td>\n",
       "      <td>2</td>\n",
       "      <td>2</td>\n",
       "      <td>2</td>\n",
       "      <td>3</td>\n",
       "      <td>2</td>\n",
       "      <td>20</td>\n",
       "      <td>Severe Depression</td>\n",
       "    </tr>\n",
       "    <tr>\n",
       "      <th>1</th>\n",
       "      <td>18-22</td>\n",
       "      <td>Male</td>\n",
       "      <td>Independent University, Bangladesh (IUB)</td>\n",
       "      <td>Engineering - CS / CSE / CSC / Similar to CS</td>\n",
       "      <td>Third Year or Equivalent</td>\n",
       "      <td>3.00 - 3.39</td>\n",
       "      <td>No</td>\n",
       "      <td>3</td>\n",
       "      <td>3</td>\n",
       "      <td>4</td>\n",
       "      <td>...</td>\n",
       "      <td>2</td>\n",
       "      <td>2</td>\n",
       "      <td>2</td>\n",
       "      <td>2</td>\n",
       "      <td>2</td>\n",
       "      <td>2</td>\n",
       "      <td>2</td>\n",
       "      <td>2</td>\n",
       "      <td>19</td>\n",
       "      <td>Moderately Severe Depression</td>\n",
       "    </tr>\n",
       "    <tr>\n",
       "      <th>2</th>\n",
       "      <td>18-22</td>\n",
       "      <td>Male</td>\n",
       "      <td>American International University Bangladesh (...</td>\n",
       "      <td>Engineering - CS / CSE / CSC / Similar to CS</td>\n",
       "      <td>Third Year or Equivalent</td>\n",
       "      <td>3.00 - 3.39</td>\n",
       "      <td>No</td>\n",
       "      <td>0</td>\n",
       "      <td>0</td>\n",
       "      <td>0</td>\n",
       "      <td>...</td>\n",
       "      <td>0</td>\n",
       "      <td>0</td>\n",
       "      <td>0</td>\n",
       "      <td>0</td>\n",
       "      <td>0</td>\n",
       "      <td>0</td>\n",
       "      <td>0</td>\n",
       "      <td>0</td>\n",
       "      <td>0</td>\n",
       "      <td>No Depression</td>\n",
       "    </tr>\n",
       "    <tr>\n",
       "      <th>3</th>\n",
       "      <td>18-22</td>\n",
       "      <td>Male</td>\n",
       "      <td>American International University Bangladesh (...</td>\n",
       "      <td>Engineering - CS / CSE / CSC / Similar to CS</td>\n",
       "      <td>Third Year or Equivalent</td>\n",
       "      <td>3.00 - 3.39</td>\n",
       "      <td>No</td>\n",
       "      <td>3</td>\n",
       "      <td>1</td>\n",
       "      <td>2</td>\n",
       "      <td>...</td>\n",
       "      <td>1</td>\n",
       "      <td>2</td>\n",
       "      <td>1</td>\n",
       "      <td>2</td>\n",
       "      <td>1</td>\n",
       "      <td>2</td>\n",
       "      <td>2</td>\n",
       "      <td>1</td>\n",
       "      <td>14</td>\n",
       "      <td>Moderate Depression</td>\n",
       "    </tr>\n",
       "    <tr>\n",
       "      <th>4</th>\n",
       "      <td>18-22</td>\n",
       "      <td>Male</td>\n",
       "      <td>North South University (NSU)</td>\n",
       "      <td>Engineering - CS / CSE / CSC / Similar to CS</td>\n",
       "      <td>Second Year or Equivalent</td>\n",
       "      <td>2.50 - 2.99</td>\n",
       "      <td>No</td>\n",
       "      <td>4</td>\n",
       "      <td>4</td>\n",
       "      <td>4</td>\n",
       "      <td>...</td>\n",
       "      <td>3</td>\n",
       "      <td>3</td>\n",
       "      <td>3</td>\n",
       "      <td>1</td>\n",
       "      <td>3</td>\n",
       "      <td>0</td>\n",
       "      <td>3</td>\n",
       "      <td>3</td>\n",
       "      <td>20</td>\n",
       "      <td>Severe Depression</td>\n",
       "    </tr>\n",
       "  </tbody>\n",
       "</table>\n",
       "<p>5 rows × 39 columns</p>\n",
       "</div>"
      ],
      "text/plain": [
       "     Age  Gender                                         University  \\\n",
       "0  18-22  Female           Independent University, Bangladesh (IUB)   \n",
       "1  18-22    Male           Independent University, Bangladesh (IUB)   \n",
       "2  18-22    Male  American International University Bangladesh (...   \n",
       "3  18-22    Male  American International University Bangladesh (...   \n",
       "4  18-22    Male                       North South University (NSU)   \n",
       "\n",
       "                                     Department              Academic_Year  \\\n",
       "0  Engineering - CS / CSE / CSC / Similar to CS  Second Year or Equivalent   \n",
       "1  Engineering - CS / CSE / CSC / Similar to CS   Third Year or Equivalent   \n",
       "2  Engineering - CS / CSE / CSC / Similar to CS   Third Year or Equivalent   \n",
       "3  Engineering - CS / CSE / CSC / Similar to CS   Third Year or Equivalent   \n",
       "4  Engineering - CS / CSE / CSC / Similar to CS  Second Year or Equivalent   \n",
       "\n",
       "  Current_CGPA waiver_or_scholarship  PSS1  PSS2  PSS3  ...  PHQ2  PHQ3  PHQ4  \\\n",
       "0  2.50 - 2.99                    No     3     4     3  ...     2     3     2   \n",
       "1  3.00 - 3.39                    No     3     3     4  ...     2     2     2   \n",
       "2  3.00 - 3.39                    No     0     0     0  ...     0     0     0   \n",
       "3  3.00 - 3.39                    No     3     1     2  ...     1     2     1   \n",
       "4  2.50 - 2.99                    No     4     4     4  ...     3     3     3   \n",
       "\n",
       "   PHQ5  PHQ6  PHQ7  PHQ8  PHQ9 Depression Value              Depression Label  \n",
       "0     2     2     2     3     2               20             Severe Depression  \n",
       "1     2     2     2     2     2               19  Moderately Severe Depression  \n",
       "2     0     0     0     0     0                0                 No Depression  \n",
       "3     2     1     2     2     1               14           Moderate Depression  \n",
       "4     1     3     0     3     3               20             Severe Depression  \n",
       "\n",
       "[5 rows x 39 columns]"
      ]
     },
     "execution_count": 2,
     "metadata": {},
     "output_type": "execute_result"
    }
   ],
   "source": [
    "BASE_DIR = os.path.abspath(\"..\")\n",
    "DATA_RAW = os.path.join(BASE_DIR, \"data\", \"raw\")\n",
    "DATA_PROCESSED = os.path.join(BASE_DIR, \"data\", \"processed\")\n",
    "\n",
    "os.makedirs(DATA_PROCESSED, exist_ok=True)\n",
    "\n",
    "dataset_path = os.path.join(DATA_RAW, \"mhp_dataset.csv\")\n",
    "df = pd.read_csv(dataset_path)\n",
    "\n",
    "print(f\"✅ Dataset loaded successfully! Shape: {df.shape}\")\n",
    "df.head()\n"
   ]
  },
  {
   "cell_type": "code",
   "execution_count": 3,
   "id": "5b70f3ac",
   "metadata": {},
   "outputs": [
    {
     "name": "stdout",
     "output_type": "stream",
     "text": [
      "✅ Column names cleaned!\n",
      "['Age', 'Gender', 'University', 'Department', 'Academic_Year', 'Current_CGPA', 'waiver_or_scholarship', 'PSS1', 'PSS2', 'PSS3', 'PSS4', 'PSS5', 'PSS6', 'PSS7', 'PSS8', 'PSS9', 'PSS10', 'Stress_Value', 'Stress_Label', 'GAD1', 'GAD2', 'GAD3', 'GAD4', 'GAD5', 'GAD6', 'GAD7', 'Anxiety_Value', 'Anxiety_Label', 'PHQ1', 'PHQ2', 'PHQ3', 'PHQ4', 'PHQ5', 'PHQ6', 'PHQ7', 'PHQ8', 'PHQ9', 'Depression_Value', 'Depression_Label']\n"
     ]
    }
   ],
   "source": [
    "# Clean column names: remove spaces, dots, special chars\n",
    "df.columns = df.columns.str.strip().str.replace(' ', '_').str.replace(r'[^A-Za-z0-9_]+', '', regex=True)\n",
    "\n",
    "print(\"✅ Column names cleaned!\")\n",
    "print(df.columns.tolist())\n"
   ]
  },
  {
   "cell_type": "code",
   "execution_count": 4,
   "id": "db31d21c",
   "metadata": {},
   "outputs": [
    {
     "name": "stdout",
     "output_type": "stream",
     "text": [
      "\n",
      "--- Data Types ---\n",
      "Age                      object\n",
      "Gender                   object\n",
      "University               object\n",
      "Department               object\n",
      "Academic_Year            object\n",
      "Current_CGPA             object\n",
      "waiver_or_scholarship    object\n",
      "PSS1                      int64\n",
      "PSS2                      int64\n",
      "PSS3                      int64\n",
      "PSS4                      int64\n",
      "PSS5                      int64\n",
      "PSS6                      int64\n",
      "PSS7                      int64\n",
      "PSS8                      int64\n",
      "PSS9                      int64\n",
      "PSS10                     int64\n",
      "Stress_Value              int64\n",
      "Stress_Label             object\n",
      "GAD1                      int64\n",
      "GAD2                      int64\n",
      "GAD3                      int64\n",
      "GAD4                      int64\n",
      "GAD5                      int64\n",
      "GAD6                      int64\n",
      "GAD7                      int64\n",
      "Anxiety_Value             int64\n",
      "Anxiety_Label            object\n",
      "PHQ1                      int64\n",
      "PHQ2                      int64\n",
      "PHQ3                      int64\n",
      "PHQ4                      int64\n",
      "PHQ5                      int64\n",
      "PHQ6                      int64\n",
      "PHQ7                      int64\n",
      "PHQ8                      int64\n",
      "PHQ9                      int64\n",
      "Depression_Value          int64\n",
      "Depression_Label         object\n",
      "dtype: object\n",
      "\n",
      "--- Missing Values ---\n",
      "Age                      0\n",
      "Gender                   0\n",
      "University               0\n",
      "Department               0\n",
      "Academic_Year            0\n",
      "Current_CGPA             0\n",
      "waiver_or_scholarship    0\n",
      "PSS1                     0\n",
      "PSS2                     0\n",
      "PSS3                     0\n",
      "dtype: int64\n"
     ]
    }
   ],
   "source": [
    "print(\"\\n--- Data Types ---\")\n",
    "print(df.dtypes)\n",
    "\n",
    "print(\"\\n--- Missing Values ---\")\n",
    "print(df.isnull().sum().sort_values(ascending=False).head(10))\n"
   ]
  },
  {
   "cell_type": "code",
   "execution_count": 5,
   "id": "8d9ef044",
   "metadata": {},
   "outputs": [
    {
     "name": "stdout",
     "output_type": "stream",
     "text": [
      "✅ Encoded categorical columns:\n",
      "['Gender', 'University', 'Department', 'Academic_Year', 'waiver_or_scholarship']\n"
     ]
    }
   ],
   "source": [
    "# Select likely categorical columns (you can adjust later)\n",
    "categorical_cols = ['Gender', 'University', 'Department', 'Academic_Year', 'waiver_or_scholarship']\n",
    "\n",
    "# Check which ones exist\n",
    "categorical_cols = [col for col in categorical_cols if col in df.columns]\n",
    "\n",
    "le = LabelEncoder()\n",
    "for col in categorical_cols:\n",
    "    df[col] = le.fit_transform(df[col].astype(str))\n",
    "\n",
    "print(\"✅ Encoded categorical columns:\")\n",
    "print(categorical_cols)\n"
   ]
  },
  {
   "cell_type": "code",
   "execution_count": 6,
   "id": "f9fc1c8a",
   "metadata": {},
   "outputs": [
    {
     "name": "stdout",
     "output_type": "stream",
     "text": [
      "✅ Features and target separated! X shape: (2028, 38), y shape: (2028,)\n"
     ]
    }
   ],
   "source": [
    "# Define the target variable (Depression Label)\n",
    "target_col = 'Depression_Label'\n",
    "\n",
    "# Check if target exists\n",
    "if target_col not in df.columns:\n",
    "    raise ValueError(\"❌ Target column 'Depression_Label' not found. Check your column names!\")\n",
    "\n",
    "# Encode target labels (Normal/Moderate/Severe → 0/1/2)\n",
    "df[target_col] = le.fit_transform(df[target_col])\n",
    "\n",
    "# Separate features and target\n",
    "X = df.drop(columns=[target_col])\n",
    "y = df[target_col]\n",
    "\n",
    "print(f\"✅ Features and target separated! X shape: {X.shape}, y shape: {y.shape}\")\n"
   ]
  },
  {
   "cell_type": "code",
   "execution_count": 7,
   "id": "02b3882a",
   "metadata": {},
   "outputs": [
    {
     "name": "stdout",
     "output_type": "stream",
     "text": [
      "✅ Cleaned dataset saved to: d:\\Study\\CSE299\\Depression Assessment System\\data\\processed\\mhp_cleaned.csv\n"
     ]
    }
   ],
   "source": [
    "cleaned_path = os.path.join(DATA_PROCESSED, \"mhp_cleaned.csv\")\n",
    "df.to_csv(cleaned_path, index=False)\n",
    "\n",
    "print(f\"✅ Cleaned dataset saved to: {cleaned_path}\")\n"
   ]
  },
  {
   "cell_type": "code",
   "execution_count": 8,
   "id": "976058e7",
   "metadata": {},
   "outputs": [
    {
     "data": {
      "image/png": "[encoded data removed]",
      "text/plain": [
       "<Figure size 600x400 with 1 Axes>"
      ]
     },
     "metadata": {},
     "output_type": "display_data"
    }
   ],
   "source": [
    "import seaborn as sns\n",
    "import matplotlib.pyplot as plt\n",
    "\n",
    "plt.figure(figsize=(6,4))\n",
    "sns.countplot(x=y)\n",
    "plt.title(\"Distribution of Depression Levels\")\n",
    "plt.xlabel(\"Depression Label (Encoded)\")\n",
    "plt.ylabel(\"Count\")\n",
    "plt.show()\n"
   ]
  }
 ],
 "metadata": {
  "kernelspec": {
   "display_name": "venv",
   "language": "python",
   "name": "python3"
  },
  "language_info": {
   "codemirror_mode": {
    "name": "ipython",
    "version": 3
   },
   "file_extension": ".py",
   "mimetype": "text/x-python",
   "name": "python",
   "nbconvert_exporter": "python",
   "pygments_lexer": "ipython3",
   "version": "3.13.7"
  }
 },
 "nbformat": 4,
 "nbformat_minor": 5
}
