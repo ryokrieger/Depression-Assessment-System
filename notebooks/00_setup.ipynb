{
 "cells": [
  {
   "cell_type": "code",
   "execution_count": 1,
   "id": "01bf0e53",
   "metadata": {},
   "outputs": [
    {
     "name": "stdout",
     "output_type": "stream",
     "text": [
      "✅ Environment check started...\n"
     ]
    }
   ],
   "source": [
    "# Socio-Clinical Depression Assessment System — Setup & Initial Data Check\n",
    "\n",
    "print(\"✅ Environment check started...\")\n"
   ]
  },
  {
   "cell_type": "code",
   "execution_count": 2,
   "id": "e3d5f7fc",
   "metadata": {},
   "outputs": [
    {
     "name": "stdout",
     "output_type": "stream",
     "text": [
      "✅ Libraries imported successfully!\n",
      "Python version: 3.13.7 (tags/v3.13.7:bcee1c3, Aug 14 2025, 14:15:11) [MSC v.1944 64 bit (AMD64)]\n"
     ]
    }
   ],
   "source": [
    "import sys\n",
    "import os\n",
    "import pandas as pd\n",
    "import numpy as np\n",
    "import matplotlib.pyplot as plt\n",
    "import seaborn as sns\n",
    "\n",
    "print(\"✅ Libraries imported successfully!\")\n",
    "print(f\"Python version: {sys.version}\")\n"
   ]
  },
  {
   "cell_type": "code",
   "execution_count": 3,
   "id": "7e0f59db",
   "metadata": {},
   "outputs": [
    {
     "name": "stdout",
     "output_type": "stream",
     "text": [
      "📂 Folder structure checked/created.\n",
      "Raw data path: d:\\Study\\CSE299\\Depression Assessment System\\data\\raw\n"
     ]
    }
   ],
   "source": [
    "# Define folder structure\n",
    "BASE_DIR = os.path.abspath(\"..\")\n",
    "DATA_RAW = os.path.join(BASE_DIR, \"data\", \"raw\")\n",
    "DATA_PROCESSED = os.path.join(BASE_DIR, \"data\", \"processed\")\n",
    "\n",
    "# Create directories if missing\n",
    "os.makedirs(DATA_RAW, exist_ok=True)\n",
    "os.makedirs(DATA_PROCESSED, exist_ok=True)\n",
    "\n",
    "print(\"📂 Folder structure checked/created.\")\n",
    "print(f\"Raw data path: {DATA_RAW}\")\n"
   ]
  },
  {
   "cell_type": "code",
   "execution_count": 4,
   "id": "4e3cda9c",
   "metadata": {},
   "outputs": [
    {
     "name": "stdout",
     "output_type": "stream",
     "text": [
      "✅ Dataset loaded successfully!\n",
      "Rows: 2028 | Columns: 39\n"
     ]
    }
   ],
   "source": [
    "dataset_path = os.path.join(DATA_RAW, \"mhp_dataset.csv\")\n",
    "\n",
    "try:\n",
    "    df = pd.read_csv(dataset_path)\n",
    "    print(\"✅ Dataset loaded successfully!\")\n",
    "    print(\"Rows:\", df.shape[0], \"| Columns:\", df.shape[1])\n",
    "except FileNotFoundError:\n",
    "    print(\"❌ Dataset not found! Please put your dataset in data/raw/ and rename it mhp_dataset.csv.\")\n"
   ]
  },
  {
   "cell_type": "code",
   "execution_count": 5,
   "id": "7b10c197",
   "metadata": {},
   "outputs": [
    {
     "data": {
      "text/html": [
       "<div>\n",
       "<style scoped>\n",
       "    .dataframe tbody tr th:only-of-type {\n",
       "        vertical-align: middle;\n",
       "    }\n",
       "\n",
       "    .dataframe tbody tr th {\n",
       "        vertical-align: top;\n",
       "    }\n",
       "\n",
       "    .dataframe thead th {\n",
       "        text-align: right;\n",
       "    }\n",
       "</style>\n",
       "<table border=\"1\" class=\"dataframe\">\n",
       "  <thead>\n",
       "    <tr style=\"text-align: right;\">\n",
       "      <th></th>\n",
       "      <th>Age</th>\n",
       "      <th>Gender</th>\n",
       "      <th>University</th>\n",
       "      <th>Department</th>\n",
       "      <th>Academic_Year</th>\n",
       "      <th>Current_CGPA</th>\n",
       "      <th>waiver_or_scholarship</th>\n",
       "      <th>PSS1</th>\n",
       "      <th>PSS2</th>\n",
       "      <th>PSS3</th>\n",
       "      <th>...</th>\n",
       "      <th>PHQ2</th>\n",
       "      <th>PHQ3</th>\n",
       "      <th>PHQ4</th>\n",
       "      <th>PHQ5</th>\n",
       "      <th>PHQ6</th>\n",
       "      <th>PHQ7</th>\n",
       "      <th>PHQ8</th>\n",
       "      <th>PHQ9</th>\n",
       "      <th>Depression Value</th>\n",
       "      <th>Depression Label</th>\n",
       "    </tr>\n",
       "  </thead>\n",
       "  <tbody>\n",
       "    <tr>\n",
       "      <th>0</th>\n",
       "      <td>18-22</td>\n",
       "      <td>Female</td>\n",
       "      <td>Independent University, Bangladesh (IUB)</td>\n",
       "      <td>Engineering - CS / CSE / CSC / Similar to CS</td>\n",
       "      <td>Second Year or Equivalent</td>\n",
       "      <td>2.50 - 2.99</td>\n",
       "      <td>No</td>\n",
       "      <td>3</td>\n",
       "      <td>4</td>\n",
       "      <td>3</td>\n",
       "      <td>...</td>\n",
       "      <td>2</td>\n",
       "      <td>3</td>\n",
       "      <td>2</td>\n",
       "      <td>2</td>\n",
       "      <td>2</td>\n",
       "      <td>2</td>\n",
       "      <td>3</td>\n",
       "      <td>2</td>\n",
       "      <td>20</td>\n",
       "      <td>Severe Depression</td>\n",
       "    </tr>\n",
       "    <tr>\n",
       "      <th>1</th>\n",
       "      <td>18-22</td>\n",
       "      <td>Male</td>\n",
       "      <td>Independent University, Bangladesh (IUB)</td>\n",
       "      <td>Engineering - CS / CSE / CSC / Similar to CS</td>\n",
       "      <td>Third Year or Equivalent</td>\n",
       "      <td>3.00 - 3.39</td>\n",
       "      <td>No</td>\n",
       "      <td>3</td>\n",
       "      <td>3</td>\n",
       "      <td>4</td>\n",
       "      <td>...</td>\n",
       "      <td>2</td>\n",
       "      <td>2</td>\n",
       "      <td>2</td>\n",
       "      <td>2</td>\n",
       "      <td>2</td>\n",
       "      <td>2</td>\n",
       "      <td>2</td>\n",
       "      <td>2</td>\n",
       "      <td>19</td>\n",
       "      <td>Moderately Severe Depression</td>\n",
       "    </tr>\n",
       "    <tr>\n",
       "      <th>2</th>\n",
       "      <td>18-22</td>\n",
       "      <td>Male</td>\n",
       "      <td>American International University Bangladesh (...</td>\n",
       "      <td>Engineering - CS / CSE / CSC / Similar to CS</td>\n",
       "      <td>Third Year or Equivalent</td>\n",
       "      <td>3.00 - 3.39</td>\n",
       "      <td>No</td>\n",
       "      <td>0</td>\n",
       "      <td>0</td>\n",
       "      <td>0</td>\n",
       "      <td>...</td>\n",
       "      <td>0</td>\n",
       "      <td>0</td>\n",
       "      <td>0</td>\n",
       "      <td>0</td>\n",
       "      <td>0</td>\n",
       "      <td>0</td>\n",
       "      <td>0</td>\n",
       "      <td>0</td>\n",
       "      <td>0</td>\n",
       "      <td>No Depression</td>\n",
       "    </tr>\n",
       "    <tr>\n",
       "      <th>3</th>\n",
       "      <td>18-22</td>\n",
       "      <td>Male</td>\n",
       "      <td>American International University Bangladesh (...</td>\n",
       "      <td>Engineering - CS / CSE / CSC / Similar to CS</td>\n",
       "      <td>Third Year or Equivalent</td>\n",
       "      <td>3.00 - 3.39</td>\n",
       "      <td>No</td>\n",
       "      <td>3</td>\n",
       "      <td>1</td>\n",
       "      <td>2</td>\n",
       "      <td>...</td>\n",
       "      <td>1</td>\n",
       "      <td>2</td>\n",
       "      <td>1</td>\n",
       "      <td>2</td>\n",
       "      <td>1</td>\n",
       "      <td>2</td>\n",
       "      <td>2</td>\n",
       "      <td>1</td>\n",
       "      <td>14</td>\n",
       "      <td>Moderate Depression</td>\n",
       "    </tr>\n",
       "    <tr>\n",
       "      <th>4</th>\n",
       "      <td>18-22</td>\n",
       "      <td>Male</td>\n",
       "      <td>North South University (NSU)</td>\n",
       "      <td>Engineering - CS / CSE / CSC / Similar to CS</td>\n",
       "      <td>Second Year or Equivalent</td>\n",
       "      <td>2.50 - 2.99</td>\n",
       "      <td>No</td>\n",
       "      <td>4</td>\n",
       "      <td>4</td>\n",
       "      <td>4</td>\n",
       "      <td>...</td>\n",
       "      <td>3</td>\n",
       "      <td>3</td>\n",
       "      <td>3</td>\n",
       "      <td>1</td>\n",
       "      <td>3</td>\n",
       "      <td>0</td>\n",
       "      <td>3</td>\n",
       "      <td>3</td>\n",
       "      <td>20</td>\n",
       "      <td>Severe Depression</td>\n",
       "    </tr>\n",
       "  </tbody>\n",
       "</table>\n",
       "<p>5 rows × 39 columns</p>\n",
       "</div>"
      ],
      "text/plain": [
       "     Age  Gender                                         University  \\\n",
       "0  18-22  Female           Independent University, Bangladesh (IUB)   \n",
       "1  18-22    Male           Independent University, Bangladesh (IUB)   \n",
       "2  18-22    Male  American International University Bangladesh (...   \n",
       "3  18-22    Male  American International University Bangladesh (...   \n",
       "4  18-22    Male                       North South University (NSU)   \n",
       "\n",
       "                                     Department              Academic_Year  \\\n",
       "0  Engineering - CS / CSE / CSC / Similar to CS  Second Year or Equivalent   \n",
       "1  Engineering - CS / CSE / CSC / Similar to CS   Third Year or Equivalent   \n",
       "2  Engineering - CS / CSE / CSC / Similar to CS   Third Year or Equivalent   \n",
       "3  Engineering - CS / CSE / CSC / Similar to CS   Third Year or Equivalent   \n",
       "4  Engineering - CS / CSE / CSC / Similar to CS  Second Year or Equivalent   \n",
       "\n",
       "  Current_CGPA waiver_or_scholarship  PSS1  PSS2  PSS3  ...  PHQ2  PHQ3  PHQ4  \\\n",
       "0  2.50 - 2.99                    No     3     4     3  ...     2     3     2   \n",
       "1  3.00 - 3.39                    No     3     3     4  ...     2     2     2   \n",
       "2  3.00 - 3.39                    No     0     0     0  ...     0     0     0   \n",
       "3  3.00 - 3.39                    No     3     1     2  ...     1     2     1   \n",
       "4  2.50 - 2.99                    No     4     4     4  ...     3     3     3   \n",
       "\n",
       "   PHQ5  PHQ6  PHQ7  PHQ8  PHQ9 Depression Value              Depression Label  \n",
       "0     2     2     2     3     2               20             Severe Depression  \n",
       "1     2     2     2     2     2               19  Moderately Severe Depression  \n",
       "2     0     0     0     0     0                0                 No Depression  \n",
       "3     2     1     2     2     1               14           Moderate Depression  \n",
       "4     1     3     0     3     3               20             Severe Depression  \n",
       "\n",
       "[5 rows x 39 columns]"
      ]
     },
     "metadata": {},
     "output_type": "display_data"
    },
    {
     "name": "stdout",
     "output_type": "stream",
     "text": [
      "\n",
      "--- Dataset Info ---\n",
      "<class 'pandas.core.frame.DataFrame'>\n",
      "RangeIndex: 2028 entries, 0 to 2027\n",
      "Data columns (total 39 columns):\n",
      " #   Column                 Non-Null Count  Dtype \n",
      "---  ------                 --------------  ----- \n",
      " 0   Age                    2028 non-null   object\n",
      " 1   Gender                 2028 non-null   object\n",
      " 2   University             2028 non-null   object\n",
      " 3   Department             2028 non-null   object\n",
      " 4   Academic_Year          2028 non-null   object\n",
      " 5   Current_CGPA           2028 non-null   object\n",
      " 6   waiver_or_scholarship  2028 non-null   object\n",
      " 7   PSS1                   2028 non-null   int64 \n",
      " 8   PSS2                   2028 non-null   int64 \n",
      " 9   PSS3                   2028 non-null   int64 \n",
      " 10  PSS4                   2028 non-null   int64 \n",
      " 11  PSS5                   2028 non-null   int64 \n",
      " 12  PSS6                   2028 non-null   int64 \n",
      " 13  PSS7                   2028 non-null   int64 \n",
      " 14  PSS8                   2028 non-null   int64 \n",
      " 15  PSS9                   2028 non-null   int64 \n",
      " 16  PSS10                  2028 non-null   int64 \n",
      " 17  Stress Value           2028 non-null   int64 \n",
      " 18  Stress Label           2028 non-null   object\n",
      " 19  GAD1                   2028 non-null   int64 \n",
      " 20  GAD2                   2028 non-null   int64 \n",
      " 21  GAD3                   2028 non-null   int64 \n",
      " 22  GAD4                   2028 non-null   int64 \n",
      " 23  GAD5                   2028 non-null   int64 \n",
      " 24  GAD6                   2028 non-null   int64 \n",
      " 25  GAD7                   2028 non-null   int64 \n",
      " 26  Anxiety Value          2028 non-null   int64 \n",
      " 27  Anxiety Label          2028 non-null   object\n",
      " 28  PHQ1                   2028 non-null   int64 \n",
      " 29  PHQ2                   2028 non-null   int64 \n",
      " 30  PHQ3                   2028 non-null   int64 \n",
      " 31  PHQ4                   2028 non-null   int64 \n",
      " 32  PHQ5                   2028 non-null   int64 \n",
      " 33  PHQ6                   2028 non-null   int64 \n",
      " 34  PHQ7                   2028 non-null   int64 \n",
      " 35  PHQ8                   2028 non-null   int64 \n",
      " 36  PHQ9                   2028 non-null   int64 \n",
      " 37  Depression Value       2028 non-null   int64 \n",
      " 38  Depression Label       2028 non-null   object\n",
      "dtypes: int64(29), object(10)\n",
      "memory usage: 618.0+ KB\n"
     ]
    },
    {
     "data": {
      "text/plain": [
       "None"
      ]
     },
     "metadata": {},
     "output_type": "display_data"
    },
    {
     "name": "stdout",
     "output_type": "stream",
     "text": [
      "\n",
      "--- Missing Values ---\n"
     ]
    },
    {
     "data": {
      "text/plain": [
       "Age                      0\n",
       "Gender                   0\n",
       "University               0\n",
       "Department               0\n",
       "Academic_Year            0\n",
       "Current_CGPA             0\n",
       "waiver_or_scholarship    0\n",
       "PSS1                     0\n",
       "PSS2                     0\n",
       "PSS3                     0\n",
       "dtype: int64"
      ]
     },
     "metadata": {},
     "output_type": "display_data"
    }
   ],
   "source": [
    "# Display the first few rows and basic info\n",
    "if 'df' in locals():\n",
    "    display(df.head())\n",
    "    print(\"\\n--- Dataset Info ---\")\n",
    "    display(df.info())\n",
    "    print(\"\\n--- Missing Values ---\")\n",
    "    display(df.isnull().sum().sort_values(ascending=False).head(10))\n"
   ]
  },
  {
   "cell_type": "code",
   "execution_count": 6,
   "id": "933c1b04",
   "metadata": {},
   "outputs": [
    {
     "data": {
      "image/png": "[encoded data removed]",
      "text/plain": [
       "<Figure size 800x400 with 1 Axes>"
      ]
     },
     "metadata": {},
     "output_type": "display_data"
    }
   ],
   "source": [
    "if 'df' in locals():\n",
    "    plt.figure(figsize=(8, 4))\n",
    "    sns.heatmap(df.isnull(), cbar=False)\n",
    "    plt.title(\"Missing Values Heatmap\")\n",
    "    plt.show()\n"
   ]
  },
  {
   "cell_type": "code",
   "execution_count": 7,
   "id": "74b71feb",
   "metadata": {},
   "outputs": [
    {
     "name": "stdout",
     "output_type": "stream",
     "text": [
      "✅ Setup complete! Next step: data cleaning in 01_data_cleaning.ipynb.\n"
     ]
    }
   ],
   "source": [
    "print(\"✅ Setup complete! Next step: data cleaning in 01_data_cleaning.ipynb.\")\n"
   ]
  }
 ],
 "metadata": {
  "kernelspec": {
   "display_name": "venv",
   "language": "python",
   "name": "python3"
  },
  "language_info": {
   "codemirror_mode": {
    "name": "ipython",
    "version": 3
   },
   "file_extension": ".py",
   "mimetype": "text/x-python",
   "name": "python",
   "nbconvert_exporter": "python",
   "pygments_lexer": "ipython3",
   "version": "3.13.7"
  }
 },
 "nbformat": 4,
 "nbformat_minor": 5
}
